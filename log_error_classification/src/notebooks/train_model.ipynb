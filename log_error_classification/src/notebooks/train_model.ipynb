{
 "cells": [
  {
   "cell_type": "code",
   "execution_count": 1,
   "id": "7cccbc48",
   "metadata": {},
   "outputs": [],
   "source": [
    "# importing all the modules and libraries\n",
    "\n",
    "from get_data import DataLoader\n",
    "from parse_data import DataParser\n",
    "from preprocess_data import DataPreprocess"
   ]
  },
  {
   "cell_type": "code",
   "execution_count": 3,
   "id": "485ae491",
   "metadata": {},
   "outputs": [],
   "source": [
    "import pandas as pd\n",
    "import numpy as np\n",
    "from numpy import random\n",
    "import pickle\n",
    "\n",
    "from sklearn.model_selection import train_test_split, cross_val_score, GridSearchCV\n",
    "from sklearn.feature_extraction.text import CountVectorizer, TfidfVectorizer\n",
    "from sklearn.metrics import accuracy_score, confusion_matrix\n",
    "from sklearn.naive_bayes import MultinomialNB\n",
    "\n",
    "import matplotlib.pyplot as plt\n",
    "%matplotlib inline\n",
    "\n",
    "from sklearn import metrics\n",
    "from sklearn.metrics import precision_score"
   ]
  },
  {
   "cell_type": "code",
   "execution_count": 4,
   "id": "5bf8d46c",
   "metadata": {},
   "outputs": [],
   "source": [
    "class TrainModel():\n",
    "    \n",
    "    def __init__(self):\n",
    "        self.data = None\n",
    "        self.classifier = None\n",
    "        self.vectorizer = None\n",
    "        self.X_test = None\n",
    "        self.y_test = None\n",
    "\n",
    "    \n",
    "    @staticmethod\n",
    "    def load_data():\n",
    "        \n",
    "        data = DataPreprocess().create_label_encoder()\n",
    "        X = data['processed_log']\n",
    "        y = data['label_ID']\n",
    "    \n",
    "        return X, y\n",
    "    \n",
    "    # creating function for evaluation \n",
    "\n",
    "    @staticmethod # alternatively we can add 'self' as an argument for the object\n",
    "    def evaluate_classifier(title, classifier, vectorizer, X_test, y_test):\n",
    "        \n",
    "        X_test_tfidf = vectorizer.transform(X_test)\n",
    "        y_pred = classifier.predict(X_test_tfidf)\n",
    "\n",
    "        precision = metrics.precision_score(y_test, y_pred, average= 'weighted')\n",
    "        recall = metrics.recall_score(y_test, y_pred, average= 'weighted')\n",
    "        f1 = metrics.f1_score(y_test, y_pred, average= 'weighted')\n",
    "\n",
    "        print(\"%s\\t%f\\t%f\\t%f\\n\" % (title, precision, recall, f1))\n",
    "\n",
    "    \n",
    "    # creating the training classifier\n",
    "\n",
    "    def train_classifier(data):\n",
    "        \n",
    "        # load data\n",
    "        X, y = TrainModel().load_data()\n",
    "        \n",
    "        # splitting the data into train test\n",
    "        X_train, X_test, y_train, y_test = train_test_split(X, y, test_size=0.3, random_state = 42)\n",
    "\n",
    "        # the object to turn data (text) into vectors\n",
    "        vectorizer = TfidfVectorizer()\n",
    "\n",
    "        # create doceument term matrix\n",
    "        dtm = vectorizer.fit_transform(X_train)\n",
    "\n",
    "        # train Naive Bayes classifier\n",
    "        naive_bayes_classifier = MultinomialNB().fit(dtm, y_train)\n",
    "\n",
    "        # evaluating the model accuracy  \n",
    "        TrainModel().evaluate_classifier('Naive Bayes\\tTRAIN\\t', naive_bayes_classifier, vectorizer, X_train, y_train)\n",
    "\n",
    "        TrainModel().evaluate_classifier('Naive Bayes\\tTEST\\t', naive_bayes_classifier, vectorizer, X_test, y_test)\n",
    "\n",
    "        # store the classifier so we can call that\n",
    "        clf_filename = 'naive_bayes_classifier.pkl'\n",
    "        pickle.dump(naive_bayes_classifier, open(clf_filename, 'wb'))\n",
    "\n",
    "        # store the vectorizer so we can transform to new data\n",
    "        vec_filename = 'tfidf_vectorizer.pkl'\n",
    "        pickle.dump(vectorizer, open(vec_filename, 'wb'))\n",
    "        \n",
    "        return naive_bayes_classifier"
   ]
  },
  {
   "cell_type": "code",
   "execution_count": 5,
   "id": "ec4c9821",
   "metadata": {},
   "outputs": [
    {
     "name": "stdout",
     "output_type": "stream",
     "text": [
      "Naive Bayes\tTRAIN\t\t0.996336\t0.997919\t0.997020\n",
      "\n",
      "Naive Bayes\tTEST\t\t0.995168\t0.997167\t0.995996\n",
      "\n"
     ]
    },
    {
     "data": {
      "text/plain": [
       "MultinomialNB()"
      ]
     },
     "execution_count": 5,
     "metadata": {},
     "output_type": "execute_result"
    }
   ],
   "source": [
    "trainModelInstance = TrainModel()\n",
    "result = trainModelInstance.train_classifier()\n",
    "result"
   ]
  },
  {
   "cell_type": "code",
   "execution_count": null,
   "id": "10e11a8f",
   "metadata": {},
   "outputs": [],
   "source": []
  }
 ],
 "metadata": {
  "jupytext": {
   "formats": "ipynb,../scripts/modeling//py"
  },
  "kernelspec": {
   "display_name": "Python 3 (ipykernel)",
   "language": "python",
   "name": "python3"
  },
  "language_info": {
   "codemirror_mode": {
    "name": "ipython",
    "version": 3
   },
   "file_extension": ".py",
   "mimetype": "text/x-python",
   "name": "python",
   "nbconvert_exporter": "python",
   "pygments_lexer": "ipython3",
   "version": "3.8.0"
  }
 },
 "nbformat": 4,
 "nbformat_minor": 5
}
