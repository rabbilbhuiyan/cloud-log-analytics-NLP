{
 "cells": [
  {
   "cell_type": "code",
   "execution_count": 1,
   "id": "fcc6b979",
   "metadata": {},
   "outputs": [],
   "source": [
    "import os\n",
    "import json\n",
    "import fnmatch\n",
    "import re\n",
    "\n",
    "import io\n",
    "from io import StringIO, BytesIO\n",
    "import pandas as pd\n",
    "\n",
    "BASE_DIR= r'C:\\Users\\rbhuiyan\\Desktop\\log_classification\\log_error_classification\\data\\raw\\compute_nodes_5'\n",
    "\n",
    "\n",
    "class DataLoader():\n",
    "    \n",
    "    def __init__(self):\n",
    "        self.BASE_DIR = BASE_DIR\n",
    "        \n",
    "    \n",
    "    def load_data(self) -> pd.DataFrame:\n",
    "        self.new_list=[]\n",
    "        for root, dirs, files in os.walk(self.BASE_DIR):\n",
    "            for file in files:\n",
    "                if fnmatch.fnmatch(file, 'messages*'): #reading files that start with messages\n",
    "                    with open(os.path.join(root, file), 'r') as f:\n",
    "                        for line in f:\n",
    "                            if re.search('ERROR', line): #if 'ERROR' in line:\n",
    "                                self.new_list.append(line)\n",
    "        # converting list into string\n",
    "        new_string= ''.join(map(str, self.new_list))\n",
    "        df_log_error = pd.read_csv(StringIO(new_string), sep=\"\\n\", names=['Column'], engine='python')\n",
    "        # to view the column in wide\n",
    "        pd.set_option('max_colwidth', 1000)\n",
    "\n",
    "        return df_log_error"
   ]
  },
  {
   "cell_type": "code",
   "execution_count": 2,
   "id": "df88f01c",
   "metadata": {
    "lines_to_next_cell": 0
   },
   "outputs": [
    {
     "data": {
      "text/html": [
       "<div>\n",
       "<style scoped>\n",
       "    .dataframe tbody tr th:only-of-type {\n",
       "        vertical-align: middle;\n",
       "    }\n",
       "\n",
       "    .dataframe tbody tr th {\n",
       "        vertical-align: top;\n",
       "    }\n",
       "\n",
       "    .dataframe thead th {\n",
       "        text-align: right;\n",
       "    }\n",
       "</style>\n",
       "<table border=\"1\" class=\"dataframe\">\n",
       "  <thead>\n",
       "    <tr style=\"text-align: right;\">\n",
       "      <th></th>\n",
       "      <th>Column</th>\n",
       "    </tr>\n",
       "  </thead>\n",
       "  <tbody>\n",
       "    <tr>\n",
       "      <th>0</th>\n",
       "      <td>2021-06-06T04:13:05.050204+00:00 c950 nova-compute: 2021-06-06 04:13:05.044 19204 ERROR nova.compute.manager [req-02c82ed7-afa9-4626-9f09-c63773a5bb93 - - - - -] [instance: abc6b2fb-88f3-419c-9d84-ea2cf3244916] An error occurred while refreshing the network cache.: ConnectTimeout: Request to http://10.100.0.1:9696/v2.0/ports?tenant_id=109f0cda76b24857a5e8ce89e0c2e5d9&amp;device_id=abc6b2fb-88f3-419c-9d84-ea2cf3244916 timed out#0122021-06-06 04:13:05.044 19204 ERROR nova.compute.manager [instance: abc6b2fb-88f3-419c-9d84-ea2cf3244916] Traceback (most recent call last):#0122021-06-06 04:13:05.044 19204 ERROR nova.compute.manager [instance: abc6b2fb-88f3-419c-9d84-ea2cf3244916]   File \"/usr/lib/python2.7/site-packages/nova/compute/manager.py\", line 6891, in _heal_instance_info_cache#0122021-06-06 04:13:05.044 19204 ERROR nova.compute.manager [instance: abc6b2fb-88f3-419c-9d84-ea2cf3244916]     self.network_api.get_instance_nw_info(context, instance)#0122021-06-06 04:13:05.044 19204 ERROR ...</td>\n",
       "    </tr>\n",
       "    <tr>\n",
       "      <th>1</th>\n",
       "      <td>2021-06-06T04:15:07.053982+00:00 c950 nova-compute: 2021-06-06 04:15:07.048 19204 ERROR nova.compute.manager [req-02c82ed7-afa9-4626-9f09-c63773a5bb93 - - - - -] [instance: abc6b2fb-88f3-419c-9d84-ea2cf3244916] An error occurred while refreshing the network cache.: ConnectTimeout: Request to http://10.100.0.1:9696/v2.0/ports?tenant_id=109f0cda76b24857a5e8ce89e0c2e5d9&amp;device_id=abc6b2fb-88f3-419c-9d84-ea2cf3244916 timed out#0122021-06-06 04:15:07.048 19204 ERROR nova.compute.manager [instance: abc6b2fb-88f3-419c-9d84-ea2cf3244916] Traceback (most recent call last):#0122021-06-06 04:15:07.048 19204 ERROR nova.compute.manager [instance: abc6b2fb-88f3-419c-9d84-ea2cf3244916]   File \"/usr/lib/python2.7/site-packages/nova/compute/manager.py\", line 6891, in _heal_instance_info_cache#0122021-06-06 04:15:07.048 19204 ERROR nova.compute.manager [instance: abc6b2fb-88f3-419c-9d84-ea2cf3244916]     self.network_api.get_instance_nw_info(context, instance)#0122021-06-06 04:15:07.048 19204 ERROR ...</td>\n",
       "    </tr>\n",
       "  </tbody>\n",
       "</table>\n",
       "</div>"
      ],
      "text/plain": [
       "                                                                                                                                                                                                                                                                                                                                                                                                                                                                                                                                                                                                                                                                                                                                                                                                                                                                                                                                                                                                                                    Column\n",
       "0  2021-06-06T04:13:05.050204+00:00 c950 nova-compute: 2021-06-06 04:13:05.044 19204 ERROR nova.compute.manager [req-02c82ed7-afa9-4626-9f09-c63773a5bb93 - - - - -] [instance: abc6b2fb-88f3-419c-9d84-ea2cf3244916] An error occurred while refreshing the network cache.: ConnectTimeout: Request to http://10.100.0.1:9696/v2.0/ports?tenant_id=109f0cda76b24857a5e8ce89e0c2e5d9&device_id=abc6b2fb-88f3-419c-9d84-ea2cf3244916 timed out#0122021-06-06 04:13:05.044 19204 ERROR nova.compute.manager [instance: abc6b2fb-88f3-419c-9d84-ea2cf3244916] Traceback (most recent call last):#0122021-06-06 04:13:05.044 19204 ERROR nova.compute.manager [instance: abc6b2fb-88f3-419c-9d84-ea2cf3244916]   File \"/usr/lib/python2.7/site-packages/nova/compute/manager.py\", line 6891, in _heal_instance_info_cache#0122021-06-06 04:13:05.044 19204 ERROR nova.compute.manager [instance: abc6b2fb-88f3-419c-9d84-ea2cf3244916]     self.network_api.get_instance_nw_info(context, instance)#0122021-06-06 04:13:05.044 19204 ERROR ...\n",
       "1  2021-06-06T04:15:07.053982+00:00 c950 nova-compute: 2021-06-06 04:15:07.048 19204 ERROR nova.compute.manager [req-02c82ed7-afa9-4626-9f09-c63773a5bb93 - - - - -] [instance: abc6b2fb-88f3-419c-9d84-ea2cf3244916] An error occurred while refreshing the network cache.: ConnectTimeout: Request to http://10.100.0.1:9696/v2.0/ports?tenant_id=109f0cda76b24857a5e8ce89e0c2e5d9&device_id=abc6b2fb-88f3-419c-9d84-ea2cf3244916 timed out#0122021-06-06 04:15:07.048 19204 ERROR nova.compute.manager [instance: abc6b2fb-88f3-419c-9d84-ea2cf3244916] Traceback (most recent call last):#0122021-06-06 04:15:07.048 19204 ERROR nova.compute.manager [instance: abc6b2fb-88f3-419c-9d84-ea2cf3244916]   File \"/usr/lib/python2.7/site-packages/nova/compute/manager.py\", line 6891, in _heal_instance_info_cache#0122021-06-06 04:15:07.048 19204 ERROR nova.compute.manager [instance: abc6b2fb-88f3-419c-9d84-ea2cf3244916]     self.network_api.get_instance_nw_info(context, instance)#0122021-06-06 04:15:07.048 19204 ERROR ..."
      ]
     },
     "execution_count": 2,
     "metadata": {},
     "output_type": "execute_result"
    }
   ],
   "source": [
    "# creating a instance of the class\n",
    "loaderInstance = DataLoader()\n",
    "\n",
    "# calling the instance of the class\n",
    "data = loaderInstance.load_data()\n",
    "\n",
    "# printing the output\n",
    "data.head(2)"
   ]
  },
  {
   "cell_type": "code",
   "execution_count": 17,
   "id": "d5809c86",
   "metadata": {
    "lines_to_next_cell": 2
   },
   "outputs": [
    {
     "data": {
      "text/plain": [
       "'2021-06-06T04:15:07.053982+00:00 c950 nova-compute: 2021-06-06 04:15:07.048 19204 ERROR nova.compute.manager [req-02c82ed7-afa9-4626-9f09-c63773a5bb93 - - - - -] [instance: abc6b2fb-88f3-419c-9d84-ea2cf3244916] An error occurred while refreshing the network cache.: ConnectTimeout: Request to http://10.100.0.1:9696/v2.0/ports?tenant_id=109f0cda76b24857a5e8ce89e0c2e5d9&device_id=abc6b2fb-88f3-419c-9d84-ea2cf3244916 timed out#0122021-06-06 04:15:07.048 19204 ERROR nova.compute.manager [instance: abc6b2fb-88f3-419c-9d84-ea2cf3244916] Traceback (most recent call last):#0122021-06-06 04:15:07.048 19204 ERROR nova.compute.manager [instance: abc6b2fb-88f3-419c-9d84-ea2cf3244916]   File \"/usr/lib/python2.7/site-packages/nova/compute/manager.py\", line 6891, in _heal_instance_info_cache#0122021-06-06 04:15:07.048 19204 ERROR nova.compute.manager [instance: abc6b2fb-88f3-419c-9d84-ea2cf3244916]     self.network_api.get_instance_nw_info(context, instance)#0122021-06-06 04:15:07.048 19204 ERROR nova.compute.manager [instance: abc6b2fb-88f3-419c-9d84-ea2cf3244916]   File \"/usr/lib/python2.7/site-packages/nova/network/base_api.py\", line 249, in get_instance_nw_info#0122021-06-06 04:15:07.048 19204 ERROR nova.compute.manager [instance: abc6b2fb-88f3-419c-9d84-ea2cf3244916]     result = self._get_instance_nw_info(context, instance, **kwargs)#0122021-06-06 04:15:07.048 19204 ERROR nova.compute.manager [instance: abc6b2fb-88f3-419c-9d84-ea2cf3244916]   File \"/usr/lib/python2.7/site-packages/nova/network/neutronv2/api.py\", line 1459, in _get_instance_nw_info#0122021-06-06 04:15:07.048 19204 ERROR nova.compute.manager [instance: abc6b2fb-88f3-419c-9d84-ea2cf3244916]     refresh_vif_id)#0122021-06-06 04:15:07.048 19204 ERROR nova.compute.manager [instance: abc6b2fb-88f3-419c-9d84-ea2cf3244916]   File \"/usr/lib/python2.7/site-packages/nova/network/neutronv2/api.py\", line 2459, in _build_network_info_model#0122021-06-06 04:15:07.048 19204 ERROR nova.compute.manager [instance: abc6b2fb-88f3-419c-9d84-ea2cf3244916]     data = client.list_ports(**search_o'"
      ]
     },
     "execution_count": 17,
     "metadata": {},
     "output_type": "execute_result"
    }
   ],
   "source": [
    "data.Column.iloc[1]"
   ]
  },
  {
   "cell_type": "code",
   "execution_count": null,
   "id": "8d950fb0",
   "metadata": {},
   "outputs": [],
   "source": []
  }
 ],
 "metadata": {
  "jupytext": {
   "formats": "ipynb,../scripts/ingest//py"
  },
  "kernelspec": {
   "display_name": "Python 3 (ipykernel)",
   "language": "python",
   "name": "python3"
  },
  "language_info": {
   "codemirror_mode": {
    "name": "ipython",
    "version": 3
   },
   "file_extension": ".py",
   "mimetype": "text/x-python",
   "name": "python",
   "nbconvert_exporter": "python",
   "pygments_lexer": "ipython3",
   "version": "3.8.0"
  }
 },
 "nbformat": 4,
 "nbformat_minor": 5
}
